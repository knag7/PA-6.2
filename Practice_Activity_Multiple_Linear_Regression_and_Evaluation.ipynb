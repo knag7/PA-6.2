{
 "cells": [
  {
   "cell_type": "raw",
   "metadata": {},
   "source": [
    "---\n",
    "embed-resources: true\n",
    "self-contained: true\n",
    "format:\n",
    "    html    \n",
    "---"
   ]
  },
  {
   "cell_type": "markdown",
   "metadata": {
    "id": "FdLoheP-mrxn"
   },
   "source": [
    "# Palmer Penguins Modeling\n",
    "\n",
    "Import the Palmer Penguins dataset and print out the first few rows.\n",
    "\n",
    "Suppose we want to predict `bill_depth_mm` using the other variables in the dataset.\n",
    "\n",
    "**Dummify** all variables that require this."
   ]
  },
  {
   "cell_type": "code",
   "execution_count": 31,
   "metadata": {
    "id": "N5lG475yllju"
   },
   "outputs": [],
   "source": [
    "import sklearn\n",
    "import pandas as pd\n",
    "import numpy as np\n",
    "from sklearn.pipeline import Pipeline\n",
    "from sklearn.linear_model import LinearRegression\n",
    "from sklearn.metrics import r2_score"
   ]
  },
  {
   "cell_type": "code",
   "execution_count": null,
   "metadata": {
    "colab": {
     "base_uri": "https://localhost:8080/"
    },
    "id": "t2HHplusq1Ej",
    "outputId": "697380b1-378e-4c7d-cee9-edb0a1fc69dc"
   },
   "outputs": [
    {
     "name": "stdout",
     "output_type": "stream",
     "text": [
      "Collecting palmerpenguins\n",
      "  Downloading palmerpenguins-0.1.4-py3-none-any.whl (17 kB)\n",
      "Requirement already satisfied: pandas in /usr/local/lib/python3.10/dist-packages (from palmerpenguins) (1.5.3)\n",
      "Requirement already satisfied: numpy in /usr/local/lib/python3.10/dist-packages (from palmerpenguins) (1.23.5)\n",
      "Requirement already satisfied: python-dateutil>=2.8.1 in /usr/local/lib/python3.10/dist-packages (from pandas->palmerpenguins) (2.8.2)\n",
      "Requirement already satisfied: pytz>=2020.1 in /usr/local/lib/python3.10/dist-packages (from pandas->palmerpenguins) (2023.3.post1)\n",
      "Requirement already satisfied: six>=1.5 in /usr/local/lib/python3.10/dist-packages (from python-dateutil>=2.8.1->pandas->palmerpenguins) (1.16.0)\n",
      "Installing collected packages: palmerpenguins\n",
      "Successfully installed palmerpenguins-0.1.4\n"
     ]
    }
   ],
   "source": [
    "!pip install palmerpenguins"
   ]
  },
  {
   "cell_type": "code",
   "execution_count": 34,
   "metadata": {
    "colab": {
     "base_uri": "https://localhost:8080/",
     "height": 206
    },
    "id": "SCdPgqxZqeEL",
    "outputId": "9ae334d6-567f-4390-d628-1a2c3e37dc8d"
   },
   "outputs": [
    {
     "data": {
      "text/html": [
       "\n",
       "  <div id=\"df-b6042bff-62cc-48ab-98aa-d00cd0b044ae\" class=\"colab-df-container\">\n",
       "    <div>\n",
       "<style scoped>\n",
       "    .dataframe tbody tr th:only-of-type {\n",
       "        vertical-align: middle;\n",
       "    }\n",
       "\n",
       "    .dataframe tbody tr th {\n",
       "        vertical-align: top;\n",
       "    }\n",
       "\n",
       "    .dataframe thead th {\n",
       "        text-align: right;\n",
       "    }\n",
       "</style>\n",
       "<table border=\"1\" class=\"dataframe\">\n",
       "  <thead>\n",
       "    <tr style=\"text-align: right;\">\n",
       "      <th></th>\n",
       "      <th>species</th>\n",
       "      <th>island</th>\n",
       "      <th>bill_length_mm</th>\n",
       "      <th>bill_depth_mm</th>\n",
       "      <th>flipper_length_mm</th>\n",
       "      <th>body_mass_g</th>\n",
       "      <th>sex</th>\n",
       "      <th>year</th>\n",
       "    </tr>\n",
       "  </thead>\n",
       "  <tbody>\n",
       "    <tr>\n",
       "      <th>0</th>\n",
       "      <td>Adelie</td>\n",
       "      <td>Torgersen</td>\n",
       "      <td>39.1</td>\n",
       "      <td>18.7</td>\n",
       "      <td>181.0</td>\n",
       "      <td>3750.0</td>\n",
       "      <td>male</td>\n",
       "      <td>2007</td>\n",
       "    </tr>\n",
       "    <tr>\n",
       "      <th>1</th>\n",
       "      <td>Adelie</td>\n",
       "      <td>Torgersen</td>\n",
       "      <td>39.5</td>\n",
       "      <td>17.4</td>\n",
       "      <td>186.0</td>\n",
       "      <td>3800.0</td>\n",
       "      <td>female</td>\n",
       "      <td>2007</td>\n",
       "    </tr>\n",
       "    <tr>\n",
       "      <th>2</th>\n",
       "      <td>Adelie</td>\n",
       "      <td>Torgersen</td>\n",
       "      <td>40.3</td>\n",
       "      <td>18.0</td>\n",
       "      <td>195.0</td>\n",
       "      <td>3250.0</td>\n",
       "      <td>female</td>\n",
       "      <td>2007</td>\n",
       "    </tr>\n",
       "    <tr>\n",
       "      <th>4</th>\n",
       "      <td>Adelie</td>\n",
       "      <td>Torgersen</td>\n",
       "      <td>36.7</td>\n",
       "      <td>19.3</td>\n",
       "      <td>193.0</td>\n",
       "      <td>3450.0</td>\n",
       "      <td>female</td>\n",
       "      <td>2007</td>\n",
       "    </tr>\n",
       "    <tr>\n",
       "      <th>5</th>\n",
       "      <td>Adelie</td>\n",
       "      <td>Torgersen</td>\n",
       "      <td>39.3</td>\n",
       "      <td>20.6</td>\n",
       "      <td>190.0</td>\n",
       "      <td>3650.0</td>\n",
       "      <td>male</td>\n",
       "      <td>2007</td>\n",
       "    </tr>\n",
       "  </tbody>\n",
       "</table>\n",
       "</div>\n",
       "    <div class=\"colab-df-buttons\">\n",
       "\n",
       "  <div class=\"colab-df-container\">\n",
       "    <button class=\"colab-df-convert\" onclick=\"convertToInteractive('df-b6042bff-62cc-48ab-98aa-d00cd0b044ae')\"\n",
       "            title=\"Convert this dataframe to an interactive table.\"\n",
       "            style=\"display:none;\">\n",
       "\n",
       "  <svg xmlns=\"http://www.w3.org/2000/svg\" height=\"24px\" viewBox=\"0 -960 960 960\">\n",
       "    <path d=\"M120-120v-720h720v720H120Zm60-500h600v-160H180v160Zm220 220h160v-160H400v160Zm0 220h160v-160H400v160ZM180-400h160v-160H180v160Zm440 0h160v-160H620v160ZM180-180h160v-160H180v160Zm440 0h160v-160H620v160Z\"/>\n",
       "  </svg>\n",
       "    </button>\n",
       "\n",
       "  <style>\n",
       "    .colab-df-container {\n",
       "      display:flex;\n",
       "      gap: 12px;\n",
       "    }\n",
       "\n",
       "    .colab-df-convert {\n",
       "      background-color: #E8F0FE;\n",
       "      border: none;\n",
       "      border-radius: 50%;\n",
       "      cursor: pointer;\n",
       "      display: none;\n",
       "      fill: #1967D2;\n",
       "      height: 32px;\n",
       "      padding: 0 0 0 0;\n",
       "      width: 32px;\n",
       "    }\n",
       "\n",
       "    .colab-df-convert:hover {\n",
       "      background-color: #E2EBFA;\n",
       "      box-shadow: 0px 1px 2px rgba(60, 64, 67, 0.3), 0px 1px 3px 1px rgba(60, 64, 67, 0.15);\n",
       "      fill: #174EA6;\n",
       "    }\n",
       "\n",
       "    .colab-df-buttons div {\n",
       "      margin-bottom: 4px;\n",
       "    }\n",
       "\n",
       "    [theme=dark] .colab-df-convert {\n",
       "      background-color: #3B4455;\n",
       "      fill: #D2E3FC;\n",
       "    }\n",
       "\n",
       "    [theme=dark] .colab-df-convert:hover {\n",
       "      background-color: #434B5C;\n",
       "      box-shadow: 0px 1px 3px 1px rgba(0, 0, 0, 0.15);\n",
       "      filter: drop-shadow(0px 1px 2px rgba(0, 0, 0, 0.3));\n",
       "      fill: #FFFFFF;\n",
       "    }\n",
       "  </style>\n",
       "\n",
       "    <script>\n",
       "      const buttonEl =\n",
       "        document.querySelector('#df-b6042bff-62cc-48ab-98aa-d00cd0b044ae button.colab-df-convert');\n",
       "      buttonEl.style.display =\n",
       "        google.colab.kernel.accessAllowed ? 'block' : 'none';\n",
       "\n",
       "      async function convertToInteractive(key) {\n",
       "        const element = document.querySelector('#df-b6042bff-62cc-48ab-98aa-d00cd0b044ae');\n",
       "        const dataTable =\n",
       "          await google.colab.kernel.invokeFunction('convertToInteractive',\n",
       "                                                    [key], {});\n",
       "        if (!dataTable) return;\n",
       "\n",
       "        const docLinkHtml = 'Like what you see? Visit the ' +\n",
       "          '<a target=\"_blank\" href=https://colab.research.google.com/notebooks/data_table.ipynb>data table notebook</a>'\n",
       "          + ' to learn more about interactive tables.';\n",
       "        element.innerHTML = '';\n",
       "        dataTable['output_type'] = 'display_data';\n",
       "        await google.colab.output.renderOutput(dataTable, element);\n",
       "        const docLink = document.createElement('div');\n",
       "        docLink.innerHTML = docLinkHtml;\n",
       "        element.appendChild(docLink);\n",
       "      }\n",
       "    </script>\n",
       "  </div>\n",
       "\n",
       "\n",
       "<div id=\"df-a7fbe303-9c6c-49e6-a833-ad891f46f231\">\n",
       "  <button class=\"colab-df-quickchart\" onclick=\"quickchart('df-a7fbe303-9c6c-49e6-a833-ad891f46f231')\"\n",
       "            title=\"Suggest charts.\"\n",
       "            style=\"display:none;\">\n",
       "\n",
       "<svg xmlns=\"http://www.w3.org/2000/svg\" height=\"24px\"viewBox=\"0 0 24 24\"\n",
       "     width=\"24px\">\n",
       "    <g>\n",
       "        <path d=\"M19 3H5c-1.1 0-2 .9-2 2v14c0 1.1.9 2 2 2h14c1.1 0 2-.9 2-2V5c0-1.1-.9-2-2-2zM9 17H7v-7h2v7zm4 0h-2V7h2v10zm4 0h-2v-4h2v4z\"/>\n",
       "    </g>\n",
       "</svg>\n",
       "  </button>\n",
       "\n",
       "<style>\n",
       "  .colab-df-quickchart {\n",
       "      --bg-color: #E8F0FE;\n",
       "      --fill-color: #1967D2;\n",
       "      --hover-bg-color: #E2EBFA;\n",
       "      --hover-fill-color: #174EA6;\n",
       "      --disabled-fill-color: #AAA;\n",
       "      --disabled-bg-color: #DDD;\n",
       "  }\n",
       "\n",
       "  [theme=dark] .colab-df-quickchart {\n",
       "      --bg-color: #3B4455;\n",
       "      --fill-color: #D2E3FC;\n",
       "      --hover-bg-color: #434B5C;\n",
       "      --hover-fill-color: #FFFFFF;\n",
       "      --disabled-bg-color: #3B4455;\n",
       "      --disabled-fill-color: #666;\n",
       "  }\n",
       "\n",
       "  .colab-df-quickchart {\n",
       "    background-color: var(--bg-color);\n",
       "    border: none;\n",
       "    border-radius: 50%;\n",
       "    cursor: pointer;\n",
       "    display: none;\n",
       "    fill: var(--fill-color);\n",
       "    height: 32px;\n",
       "    padding: 0;\n",
       "    width: 32px;\n",
       "  }\n",
       "\n",
       "  .colab-df-quickchart:hover {\n",
       "    background-color: var(--hover-bg-color);\n",
       "    box-shadow: 0 1px 2px rgba(60, 64, 67, 0.3), 0 1px 3px 1px rgba(60, 64, 67, 0.15);\n",
       "    fill: var(--button-hover-fill-color);\n",
       "  }\n",
       "\n",
       "  .colab-df-quickchart-complete:disabled,\n",
       "  .colab-df-quickchart-complete:disabled:hover {\n",
       "    background-color: var(--disabled-bg-color);\n",
       "    fill: var(--disabled-fill-color);\n",
       "    box-shadow: none;\n",
       "  }\n",
       "\n",
       "  .colab-df-spinner {\n",
       "    border: 2px solid var(--fill-color);\n",
       "    border-color: transparent;\n",
       "    border-bottom-color: var(--fill-color);\n",
       "    animation:\n",
       "      spin 1s steps(1) infinite;\n",
       "  }\n",
       "\n",
       "  @keyframes spin {\n",
       "    0% {\n",
       "      border-color: transparent;\n",
       "      border-bottom-color: var(--fill-color);\n",
       "      border-left-color: var(--fill-color);\n",
       "    }\n",
       "    20% {\n",
       "      border-color: transparent;\n",
       "      border-left-color: var(--fill-color);\n",
       "      border-top-color: var(--fill-color);\n",
       "    }\n",
       "    30% {\n",
       "      border-color: transparent;\n",
       "      border-left-color: var(--fill-color);\n",
       "      border-top-color: var(--fill-color);\n",
       "      border-right-color: var(--fill-color);\n",
       "    }\n",
       "    40% {\n",
       "      border-color: transparent;\n",
       "      border-right-color: var(--fill-color);\n",
       "      border-top-color: var(--fill-color);\n",
       "    }\n",
       "    60% {\n",
       "      border-color: transparent;\n",
       "      border-right-color: var(--fill-color);\n",
       "    }\n",
       "    80% {\n",
       "      border-color: transparent;\n",
       "      border-right-color: var(--fill-color);\n",
       "      border-bottom-color: var(--fill-color);\n",
       "    }\n",
       "    90% {\n",
       "      border-color: transparent;\n",
       "      border-bottom-color: var(--fill-color);\n",
       "    }\n",
       "  }\n",
       "</style>\n",
       "\n",
       "  <script>\n",
       "    async function quickchart(key) {\n",
       "      const quickchartButtonEl =\n",
       "        document.querySelector('#' + key + ' button');\n",
       "      quickchartButtonEl.disabled = true;  // To prevent multiple clicks.\n",
       "      quickchartButtonEl.classList.add('colab-df-spinner');\n",
       "      try {\n",
       "        const charts = await google.colab.kernel.invokeFunction(\n",
       "            'suggestCharts', [key], {});\n",
       "      } catch (error) {\n",
       "        console.error('Error during call to suggestCharts:', error);\n",
       "      }\n",
       "      quickchartButtonEl.classList.remove('colab-df-spinner');\n",
       "      quickchartButtonEl.classList.add('colab-df-quickchart-complete');\n",
       "    }\n",
       "    (() => {\n",
       "      let quickchartButtonEl =\n",
       "        document.querySelector('#df-a7fbe303-9c6c-49e6-a833-ad891f46f231 button');\n",
       "      quickchartButtonEl.style.display =\n",
       "        google.colab.kernel.accessAllowed ? 'block' : 'none';\n",
       "    })();\n",
       "  </script>\n",
       "</div>\n",
       "    </div>\n",
       "  </div>\n"
      ],
      "text/plain": [
       "  species     island  bill_length_mm  bill_depth_mm  flipper_length_mm  \\\n",
       "0  Adelie  Torgersen            39.1           18.7              181.0   \n",
       "1  Adelie  Torgersen            39.5           17.4              186.0   \n",
       "2  Adelie  Torgersen            40.3           18.0              195.0   \n",
       "4  Adelie  Torgersen            36.7           19.3              193.0   \n",
       "5  Adelie  Torgersen            39.3           20.6              190.0   \n",
       "\n",
       "   body_mass_g     sex  year  \n",
       "0       3750.0    male  2007  \n",
       "1       3800.0  female  2007  \n",
       "2       3250.0  female  2007  \n",
       "4       3450.0  female  2007  \n",
       "5       3650.0    male  2007  "
      ]
     },
     "execution_count": 34,
     "metadata": {},
     "output_type": "execute_result"
    }
   ],
   "source": [
    "# Importing Penguins Data\n",
    "from palmerpenguins import load_penguins\n",
    "\n",
    "penguins = load_penguins()\n",
    "\n",
    "# Dropping NA's\n",
    "penguins = penguins.dropna()\n",
    "penguins.head()"
   ]
  },
  {
   "cell_type": "code",
   "execution_count": null,
   "metadata": {
    "id": "yNTUeihTS-ui"
   },
   "outputs": [],
   "source": [
    "# Dummifying Variables with One-Hot-Encoder and ColumnTransformer\n",
    "from sklearn.compose import ColumnTransformer\n",
    "from sklearn.preprocessing import OneHotEncoder\n",
    "from sklearn.compose import make_column_transformer\n",
    "\n",
    "enc = OneHotEncoder()\n",
    "\n",
    "ct = make_column_transformer(\n",
    "    (enc, ['species','sex','island']),\n",
    "    remainder=\"passthrough\"  # all other columns in X will be passed through\n",
    ")\n",
    "\n",
    "# # Alternative Option by Naming Processes\n",
    "# ct = ColumnTransformer(\n",
    "#     [(\"dummify_s\", enc, ['species']),\n",
    "#     (\"dummify_i\", enc, ['island']),\n",
    "#     (\"dummify_sex\", enc, ['sex'])]\n",
    "# )\n",
    "\n",
    "# Creating Linear Regression Object\n",
    "from sklearn.linear_model import LinearRegression\n",
    "\n",
    "lr = LinearRegression()\n",
    "\n",
    "# Creating Pipeline\n",
    "pipeline = Pipeline(\n",
    "    [('dummify_everything', ct), ('ols', lr)]\n",
    ")\n",
    "\n",
    "# # Applying Pipeline to Data\n",
    "# from sklearn.pipeline import make_pipeline\n",
    "\n",
    "# # Alternative by Not Naming Processes\n",
    "# pipeline = make_pipeline(\n",
    "#     ct,lr\n",
    "# )"
   ]
  },
  {
   "cell_type": "markdown",
   "metadata": {
    "id": "TT1MVgaKm_gX"
   },
   "source": [
    "Let's use the other variables to predict `bill_depth_mm`. Prepare your data and fit the following models on the entire dataset:\n",
    "\n",
    "* Four different models, each containing a different set of predictor variables\n",
    "\n",
    "Create a plot like the right plot of Fig 1. in our `Model Validation` chapter with the training and test error plotted for each of your four models.\n",
    "\n",
    "Which of your models was best?"
   ]
  },
  {
   "cell_type": "code",
   "execution_count": 49,
   "metadata": {
    "colab": {
     "base_uri": "https://localhost:8080/"
    },
    "id": "M6f7JWZTm6tn",
    "outputId": "57bb387f-d9c8-4198-edf0-e0cdf981d31c"
   },
   "outputs": [
    {
     "name": "stdout",
     "output_type": "stream",
     "text": [
      "Training RMSE: 0.7802420768810469\n",
      "Validation RMSE: 0.9179909890189298\n"
     ]
    }
   ],
   "source": [
    "# Model 1\n",
    "\n",
    "# Specifying Training/Test Sets\n",
    "from sklearn.model_selection import train_test_split\n",
    "\n",
    "X1 = penguins[[\"bill_length_mm\",\"species\",\"island\",\"sex\"]]\n",
    "y = penguins[\"bill_depth_mm\"]\n",
    "cols1 = len(X1.columns)\n",
    "\n",
    "X_train, X_test, y_train, y_test = train_test_split(X1, y, test_size=0.25)\n",
    "\n",
    "\n",
    "# Fitting Pipeline\n",
    "pipeline.fit(X_train,y_train)\n",
    "\n",
    "# Calculate the model predictions on the training data\n",
    "y_train_ = pipeline.predict(X=X_train)\n",
    "\n",
    "# Finding RMSE of Training Data\n",
    "from sklearn.metrics import mean_squared_error\n",
    "mse_train = mean_squared_error(y_train, y_train_)\n",
    "\n",
    "rmse_train1 = np.sqrt(mse_train)\n",
    "print(\"Training RMSE:\",rmse_train1)\n",
    "\n",
    "# Finding RMSE of Validation Set\n",
    "\n",
    "# get model's predictions on validation set\n",
    "y_test_ = pipeline.predict(X_test)\n",
    "\n",
    "rmse_val1 = np.sqrt(mean_squared_error(y_test, y_test_))\n",
    "print(\"Validation RMSE:\",rmse_val1)"
   ]
  },
  {
   "cell_type": "code",
   "execution_count": 50,
   "metadata": {
    "colab": {
     "base_uri": "https://localhost:8080/"
    },
    "id": "6v-WUb-_IgP_",
    "outputId": "9cc094c3-e4ab-4269-c64a-f5a031d357ee"
   },
   "outputs": [
    {
     "name": "stdout",
     "output_type": "stream",
     "text": [
      "Training RMSE: 0.8136332670145674\n",
      "Validation RMSE: 0.7224495908670852\n"
     ]
    }
   ],
   "source": [
    "# Model 2\n",
    "\n",
    "# Specifying Training/Test Sets\n",
    "from sklearn.model_selection import train_test_split\n",
    "\n",
    "X2 = penguins[[\"bill_length_mm\",\"species\",\"island\",\"sex\",\"body_mass_g\"]]\n",
    "cols2 = len(X2.columns)\n",
    "\n",
    "X_train, X_test, y_train, y_test = train_test_split(X2, y, test_size=0.25)\n",
    "\n",
    "\n",
    "# Fitting Pipeline\n",
    "pipeline.fit(X_train,y_train)\n",
    "\n",
    "# Calculate the model predictions on the training data\n",
    "y_train_ = pipeline.predict(X=X_train)\n",
    "\n",
    "# Finding RMSE of Training Data\n",
    "from sklearn.metrics import mean_squared_error\n",
    "mse_train = mean_squared_error(y_train, y_train_)\n",
    "\n",
    "rmse_train2 = np.sqrt(mse_train)\n",
    "print(\"Training RMSE:\",rmse_train2)\n",
    "\n",
    "# Finding RMSE of Validation Set\n",
    "\n",
    "# get model's predictions on validation set\n",
    "y_test_ = pipeline.predict(X_test)\n",
    "\n",
    "rmse_val2 = np.sqrt(mean_squared_error(y_test, y_test_))\n",
    "print(\"Validation RMSE:\",rmse_val2)"
   ]
  },
  {
   "cell_type": "code",
   "execution_count": 51,
   "metadata": {
    "colab": {
     "base_uri": "https://localhost:8080/"
    },
    "id": "3d4HO-jlIhMt",
    "outputId": "288d3aa5-b2d0-432f-be60-596d0d1bf48c"
   },
   "outputs": [
    {
     "name": "stdout",
     "output_type": "stream",
     "text": [
      "Training RMSE: 0.7694337714619794\n",
      "Validation RMSE: 0.8466246539677629\n"
     ]
    }
   ],
   "source": [
    "# Model 3\n",
    "\n",
    "# Specifying Training/Test Sets\n",
    "from sklearn.model_selection import train_test_split\n",
    "\n",
    "X3 = penguins[[\"bill_length_mm\",\"species\",\"island\",\"sex\",\"body_mass_g\",\"year\"]]\n",
    "cols3 = len(X3.columns)\n",
    "\n",
    "X_train, X_test, y_train, y_test = train_test_split(X3, y, test_size=0.25)\n",
    "\n",
    "\n",
    "# Fitting Pipeline\n",
    "pipeline.fit(X_train,y_train)\n",
    "\n",
    "# Calculate the model predictions on the training data\n",
    "y_train_ = pipeline.predict(X=X_train)\n",
    "\n",
    "# Finding RMSE of Training Data\n",
    "from sklearn.metrics import mean_squared_error\n",
    "mse_train = mean_squared_error(y_train, y_train_)\n",
    "\n",
    "rmse_train3 = np.sqrt(mse_train)\n",
    "print(\"Training RMSE:\",rmse_train3)\n",
    "\n",
    "# Finding RMSE of Validation Set\n",
    "\n",
    "# get model's predictions on validation set\n",
    "y_test_ = pipeline.predict(X_test)\n",
    "\n",
    "rmse_val3 = np.sqrt(mean_squared_error(y_test, y_test_))\n",
    "print(\"Validation RMSE:\",rmse_val3)"
   ]
  },
  {
   "cell_type": "code",
   "execution_count": 52,
   "metadata": {
    "colab": {
     "base_uri": "https://localhost:8080/"
    },
    "id": "hV78NtufIiyw",
    "outputId": "2a2f75e3-5c64-41e3-e99b-135627bbf326"
   },
   "outputs": [
    {
     "name": "stdout",
     "output_type": "stream",
     "text": [
      "Training RMSE: 0.7463271839906604\n",
      "Validation RMSE: 0.85865426332377\n",
      "\n"
     ]
    }
   ],
   "source": [
    "# Model 4\n",
    "\n",
    "# Specifying Training/Test Sets\n",
    "from sklearn.model_selection import train_test_split\n",
    "\n",
    "X4 = penguins[[\"bill_length_mm\",\"species\",\"island\",\"sex\",\"body_mass_g\",\"flipper_length_mm\",\"year\"]]\n",
    "cols4 = len(X4.columns)\n",
    "\n",
    "X_train, X_test, y_train, y_test = train_test_split(X4, y, test_size=0.25)\n",
    "\n",
    "\n",
    "# Fitting Pipeline\n",
    "pipeline.fit(X_train,y_train)\n",
    "\n",
    "# Calculate the model predictions on the training data\n",
    "y_train_ = pipeline.predict(X=X_train)\n",
    "\n",
    "# Finding RMSE of Training Set\n",
    "from sklearn.metrics import mean_squared_error\n",
    "mse_train = mean_squared_error(y_train, y_train_)\n",
    "\n",
    "rmse_train4 = np.sqrt(mse_train)\n",
    "print(\"Training RMSE:\",rmse_train4)\n",
    "\n",
    "# Finding RMSE of Validation Set\n",
    "\n",
    "# get model's predictions on validation set\n",
    "y_test_ = pipeline.predict(X_test)\n",
    "\n",
    "rmse_val4 = np.sqrt(mean_squared_error(y_test, y_test_))\n",
    "print(\"Validation RMSE:\",rmse_val4)\n",
    "\n",
    "print()"
   ]
  },
  {
   "cell_type": "code",
   "execution_count": 79,
   "metadata": {
    "colab": {
     "base_uri": "https://localhost:8080/",
     "height": 515
    },
    "id": "l6Iy4-6LZo85",
    "outputId": "f1b3f788-b67c-4c78-a94e-f69245ddf8a6"
   },
   "outputs": [
    {
     "data": {
      "image/png": "[encoded data removed]",
      "text/plain": [
       "<Figure size 640x480 with 1 Axes>"
      ]
     },
     "metadata": {
      "image/png": {
       "height": 480,
       "width": 640
      },
      "needs_background": "light"
     },
     "output_type": "display_data"
    },
    {
     "data": {
      "text/plain": [
       "<Figure Size: (640 x 480)>"
      ]
     },
     "execution_count": 79,
     "metadata": {},
     "output_type": "execute_result"
    }
   ],
   "source": [
    "# Creating Plot\n",
    "\n",
    "# Creating Lists of RMSE's and Number of Predictors\n",
    "rmse_train_list = [rmse_train1,rmse_train2,rmse_train3,rmse_train4]\n",
    "rmse_val_list = [rmse_val1,rmse_val2,rmse_val3,rmse_val4]\n",
    "predictor_num_list = [cols1,cols2,cols3,cols4]\n",
    "\n",
    "\n",
    "# Creating a DataFrame for plotting\n",
    "rmse_df = pd.DataFrame({'rmse_train': rmse_train_list, 'rmse_val': rmse_val_list, 'predictors': predictor_num_list})\n",
    "\n",
    "from plotnine import *\n",
    "\n",
    "(ggplot(rmse_df,\n",
    "        aes(x=\"predictors\"))\n",
    "+ geom_line(aes(y='rmse_train', color='\"blue\"'))\n",
    "+ geom_line(aes(y='rmse_val', color='\"red\"'))\n",
    "+ theme_minimal()\n",
    "# Adding Labels\n",
    "+ labs(x=\"Flexibility\",\n",
    "       y=\"RMSE\",\n",
    "       title=\"Training/Test RMSE of 4 Models for Bill Depth (mm)\",\n",
    "       color=\"Data\")\n",
    "# Add color scale identity for Legend Labels\n",
    "+ scale_color_identity(\n",
    "    guide='legend',\n",
    "    breaks=['red', 'blue'],\n",
    "    labels=['Training', 'Validation'])\n",
    ")\n",
    "\n"
   ]
  },
  {
   "cell_type": "markdown",
   "metadata": {
    "id": "Qb4mHBYbTukA"
   },
   "source": [
    "The model that performed the best was Model 3, which had `bill_length_mm`,`species`, `island`, `sex`, and `body_mass_g` as predictors, as it had the lowest RMSE of the 4 models predicted for the validation set by a decent margin, even though it had the highest training RMSE of the 4 models."
   ]
  }
 ],
 "metadata": {
  "colab": {
   "provenance": []
  },
  "kernelspec": {
   "display_name": "Python 3 (ipykernel)",
   "language": "python",
   "name": "python3"
  },
  "language_info": {
   "codemirror_mode": {
    "name": "ipython",
    "version": 3
   },
   "file_extension": ".py",
   "mimetype": "text/x-python",
   "name": "python",
   "nbconvert_exporter": "python",
   "pygments_lexer": "ipython3",
   "version": "3.11.4"
  }
 },
 "nbformat": 4,
 "nbformat_minor": 1
}
